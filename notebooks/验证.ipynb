{
 "cells": [
  {
   "cell_type": "code",
   "execution_count": 10,
   "metadata": {},
   "outputs": [
    {
     "name": "stdout",
     "output_type": "stream",
     "text": [
      "(3, 1)\n",
      "(3, 1)\n",
      "(3, 1)\n"
     ]
    }
   ],
   "source": [
    "import numpy as np\n",
    "\n",
    "distance1 = np.array([[0.1], [0.2], [0.3]])\n",
    "distance2 = np.array([[0.4], [0.5], [0.6]])\n",
    "\n",
    "print(distance1.shape)\n",
    "print(distance2.shape)\n",
    "predictions = (distance1 < distance2).astype(int)\n",
    "print(predictions.shape)"
   ]
  },
  {
   "cell_type": "code",
   "execution_count": 12,
   "metadata": {},
   "outputs": [
    {
     "name": "stdout",
     "output_type": "stream",
     "text": [
      "(3,)\n",
      "(3,)\n",
      "(3,)\n"
     ]
    }
   ],
   "source": [
    "import numpy as np\n",
    "\n",
    "distance1 = np.array([0.1, 0.2, 0.3])\n",
    "distance2 = np.array([0.4, 0.5, 0.6])\n",
    "\n",
    "print(distance1.shape)\n",
    "print(distance2.shape)\n",
    "predictions = (distance1 < distance2).astype(int)\n",
    "print(predictions.shape)"
   ]
  },
  {
   "cell_type": "code",
   "execution_count": 11,
   "metadata": {},
   "outputs": [
    {
     "name": "stdout",
     "output_type": "stream",
     "text": [
      "[[3 4]]\n"
     ]
    }
   ],
   "source": [
    "import numpy as np\n",
    "\n",
    "# 假设 self.A 是一个 2x2 的数组\n",
    "A = np.array([[1, 2], [3, 4]])\n",
    "# 假设 self.beta 是一个长度为 2 的数组\n",
    "beta = np.array([[0.000], [0.002]])\n",
    "\n",
    "# 生成布尔数组\n",
    "mask = beta > 1e-5\n",
    "mask = mask.flatten()\n",
    "print(A[mask])\n"
   ]
  },
  {
   "cell_type": "code",
   "execution_count": 13,
   "metadata": {},
   "outputs": [
    {
     "name": "stdout",
     "output_type": "stream",
     "text": [
      "(3, 2)\n",
      "(2,)\n",
      "(3,)\n"
     ]
    }
   ],
   "source": [
    "A = np.array([[1, 2], [3, 4], [5, 6]])  # 3x2\n",
    "x = np.array([1,2]) # 3,\n",
    "print(A.shape)\n",
    "print(x.shape)\n",
    "print(np.dot(A, x).shape)"
   ]
  },
  {
   "cell_type": "code",
   "execution_count": 14,
   "metadata": {},
   "outputs": [
    {
     "name": "stdout",
     "output_type": "stream",
     "text": [
      "[[1 4]\n",
      " [2 5]\n",
      " [3 6]]\n"
     ]
    }
   ],
   "source": [
    "import numpy as np\n",
    "\n",
    "# 创建一个一维 numpy 数组\n",
    "arr1 = np.array([1, 2, 3])\n",
    "arr2 = np.array([4,5,6])\n",
    "# 创建一个空列表\n",
    "my_list = []\n",
    "\n",
    "# 将一维 numpy 数组追加到列表中\n",
    "my_list.append(arr1)\n",
    "my_list.append(arr2)\n",
    "\n",
    "print(np.array(my_list).T)"
   ]
  },
  {
   "cell_type": "code",
   "execution_count": null,
   "metadata": {},
   "outputs": [],
   "source": []
  },
  {
   "cell_type": "code",
   "execution_count": 15,
   "metadata": {},
   "outputs": [
    {
     "name": "stdout",
     "output_type": "stream",
     "text": [
      "(3, 2)\n",
      "(2, 1)\n",
      "(3, 1)\n"
     ]
    }
   ],
   "source": [
    "A = np.array([[1, 2], [3, 4], [5, 6]])  # 3x2\n",
    "x = np.array([\n",
    "    [1],\n",
    "    [2]\n",
    "]) # 3,\n",
    "print(A.shape)\n",
    "print(x.shape)\n",
    "print(np.dot(A, x).shape)"
   ]
  },
  {
   "cell_type": "code",
   "execution_count": 16,
   "metadata": {},
   "outputs": [
    {
     "name": "stdout",
     "output_type": "stream",
     "text": [
      "[[1 2]\n",
      " [3 4]\n",
      " [5 6]\n",
      " [1 2]\n",
      " [3 4]\n",
      " [5 6]]\n"
     ]
    }
   ],
   "source": [
    "import numpy as np\n",
    "A = np.array([[1, 2], [3, 4], [5, 6]])  # 3x2\n",
    "B = np.array([[1, 2], [3, 4], [5, 6]])  # 3x2\n",
    "print(np.vstack((A, B)))"
   ]
  },
  {
   "cell_type": "code",
   "execution_count": null,
   "metadata": {},
   "outputs": [
    {
     "name": "stdout",
     "output_type": "stream",
     "text": [
      "qianzhonghao\n"
     ]
    }
   ],
   "source": [
    "a = 'zhong'\n",
    "b = 'qian'+a+'hao'\n",
    "print(b)"
   ]
  },
  {
   "cell_type": "code",
   "execution_count": null,
   "metadata": {},
   "outputs": [
    {
     "name": "stdout",
     "output_type": "stream",
     "text": [
      "使用 np.linspace 生成的结果： [ 0.   2.5  5.   7.5 10. ]\n",
      "使用 np.arange 生成的结果： [0 2 4 6 8]\n"
     ]
    }
   ],
   "source": [
    "import numpy as np\n",
    "\n",
    "# 使用 np.linspace 在0到10之间生成5个等间隔的数字\n",
    "linspace_result = np.linspace(0, 10, num=5)\n",
    "print(\"使用 np.linspace 生成的结果：\", linspace_result)\n",
    "\n",
    "# 使用 np.arange 从0开始，以2为步长，生成小于10的数字\n",
    "arange_result = np.arange(0, 10, 2)\n",
    "print(\"使用 np.arange 生成的结果：\", arange_result)\n",
    "    "
   ]
  },
  {
   "cell_type": "code",
   "execution_count": null,
   "metadata": {},
   "outputs": [],
   "source": [
    "label_cols = {\n",
    "    'birds': slice(-19, None),  # 假设 birds 数据集最后 19 列是标签列\n",
    "    'emotions': slice(-6, None),  # 假设 emotions 数据集最后 6 列是标签列\n",
    "    'flags': slice(-7, None),  # 假设 flags 数据集最后 7 列是标签列\n",
    "    'yeast': slice(-14, None)  # 假设 yeast 数据集最后 14 列是标签列   \n",
    "}\n",
    "\n"
   ]
  },
  {
   "cell_type": "code",
   "execution_count": 7,
   "metadata": {},
   "outputs": [
    {
     "name": "stdout",
     "output_type": "stream",
     "text": [
      "[[ True False  True]\n",
      " [ True False  True]\n",
      " [ True False  True]]\n",
      "[0.66666667 0.66666667 0.66666667]\n"
     ]
    }
   ],
   "source": [
    "import numpy as np\n",
    "a = np.array(\n",
    "[[1, 1, 1],\n",
    " [0, 1, 0],\n",
    " [0, 0, 1]]\n",
    ")\n",
    "b = np.array(\n",
    "[[1, 0, 1],\n",
    " [0, 0, 0],\n",
    " [0, 1, 1]]\n",
    ")\n",
    "print(a==b)\n",
    "print(np.mean(a==b,axis=1))"
   ]
  },
  {
   "cell_type": "code",
   "execution_count": 8,
   "metadata": {},
   "outputs": [
    {
     "name": "stdout",
     "output_type": "stream",
     "text": [
      "矩阵乘法的时间： 0.03298306465148926\n"
     ]
    }
   ],
   "source": [
    "import time\n",
    "import numpy as np\n",
    "\n",
    "# 生成一个 1000x1000 的随机矩阵\n",
    "A = np.random.rand(1000, 1000)\n",
    "B = np.random.rand(1000, 1000)\n",
    "\n",
    "# 计算矩阵乘法的时间\n",
    "start_time = time.time()\n",
    "C = np.dot(A, B)\n",
    "end_time = time.time()\n",
    "print(\"矩阵乘法的时间：\", end_time - start_time)"
   ]
  },
  {
   "cell_type": "code",
   "execution_count": 25,
   "metadata": {},
   "outputs": [
    {
     "name": "stdout",
     "output_type": "stream",
     "text": [
      "查询时间： 0.005548954010009766\n",
      "最近邻在C中的行号: [106 992 734 343 217]\n"
     ]
    }
   ],
   "source": [
    "import numpy as np\n",
    "from sklearn.neighbors import NearestNeighbors\n",
    "import time\n",
    "# 示例数据\n",
    "m, n = 1500,100\n",
    "C = np.random.rand(m, n)  # 原矩阵C\n",
    "x = np.random.rand(n)     # 查询向量x\n",
    "\n",
    "\n",
    "t1 = time.time()\n",
    "# 创建KNN模型并拟合原矩阵C\n",
    "k = 5\n",
    "knn = NearestNeighbors(n_neighbors=k)\n",
    "knn.fit(C)  \n",
    "\n",
    "# 查询x的最近邻索引\n",
    "_, indices = knn.kneighbors(x.reshape(1, -1))  # 返回的indices直接对应C的行号\n",
    "\n",
    "t2 = time.time()\n",
    "print(\"查询时间：\", t2 - t1)\n",
    "\n",
    "# 提取结果（注意indices是二维数组，取第一个元素）\n",
    "neighbor_row_indices = indices[0]\n",
    "\n",
    "print(\"最近邻在C中的行号:\", neighbor_row_indices)\n"
   ]
  },
  {
   "cell_type": "code",
   "execution_count": 28,
   "metadata": {},
   "outputs": [
    {
     "name": "stdout",
     "output_type": "stream",
     "text": [
      "[1 2 3 4]\n",
      "(4,)\n",
      "[3 3 3 3]\n",
      "(4,)\n",
      "[5 5 6 7]\n",
      "(4,)\n"
     ]
    }
   ],
   "source": [
    "import numpy as np\n",
    "a = np.array([\n",
    "   [1,2,3,4],\n",
    "   [3,3,3,3],\n",
    "   [5,5,6,7]\n",
    "])\n",
    "for row in a:\n",
    "    print(row)\n",
    "    print(row.shape)"
   ]
  },
  {
   "cell_type": "code",
   "execution_count": 36,
   "metadata": {},
   "outputs": [
    {
     "name": "stdout",
     "output_type": "stream",
     "text": [
      "[1 0 0]\n",
      "[[3 2 1 1]]\n"
     ]
    }
   ],
   "source": [
    "import numpy as np\n",
    "a = np.array([\n",
    "   [1,1,0,1],\n",
    "   [0,1,0,0],\n",
    "   [0,1,1,0]\n",
    "])\n",
    "b = np.array([\n",
    "   [3,2,1,1],\n",
    "   [1,1,3,0],\n",
    "   [4,1,1,0]\n",
    "])\n",
    "y = a[:,0]\n",
    "print(y)\n",
    "# 提取y中为1的索引\n",
    "idx = (y==1)\n",
    "print(b[y==1])\n"
   ]
  },
  {
   "cell_type": "code",
   "execution_count": 45,
   "metadata": {},
   "outputs": [
    {
     "name": "stdout",
     "output_type": "stream",
     "text": [
      "[[np.float64(0.0), np.float64(0.0)]]\n"
     ]
    }
   ],
   "source": [
    "import numpy as np\n",
    "from sklearn.neighbors import NearestNeighbors\n",
    "\n",
    "\n",
    "\n",
    "\n",
    "\n",
    "def get_V(X,Y,k):\n",
    "    m = Y.shape[1]\n",
    "    knn = NearestNeighbors(n_neighbors=k)\n",
    "    knn.fit(X)\n",
    "    V = []\n",
    "    for i in range(m):\n",
    "        y = Y[:,i]\n",
    "        B = X[(y==0)]\n",
    "        v = []\n",
    "        for x in B:\n",
    "            _, indices = knn.kneighbors(x.reshape(1, -1)) \n",
    "            neighbor_idx = indices[0]\n",
    "            yy = y[neighbor_idx]\n",
    "            v.append(np.mean(yy))\n",
    "    V.append(v)\n",
    "    return V\n",
    "\n",
    "\n",
    "\n",
    "print(get_V(a,b,2))"
   ]
  },
  {
   "cell_type": "code",
   "execution_count": null,
   "metadata": {},
   "outputs": [
    {
     "name": "stdout",
     "output_type": "stream",
     "text": [
      "[1]\n"
     ]
    }
   ],
   "source": [
    "a = [[1,2,3],\n",
    "     [2,2,2,2,2],\n",
    "     [1,2,2,2],\n",
    "     [1]\n",
    "     ]\n",
    "print(a[3])"
   ]
  },
  {
   "cell_type": "code",
   "execution_count": 60,
   "metadata": {},
   "outputs": [
    {
     "name": "stdout",
     "output_type": "stream",
     "text": [
      "[1. 1. 1. 1.]\n"
     ]
    }
   ],
   "source": [
    "import numpy as np\n",
    "a = np.ones(3)\n",
    "b = np.ones(4)\n",
    "c = np.ones(5)\n",
    "d = np.ones(6)\n",
    "ee = []\n",
    "ee.append(a)\n",
    "ee.append(b)\n",
    "ee.append(c)\n",
    "ee.append(d)\n",
    "print(ee[1])"
   ]
  },
  {
   "cell_type": "code",
   "execution_count": 5,
   "metadata": {},
   "outputs": [
    {
     "name": "stdout",
     "output_type": "stream",
     "text": [
      "[[158 176 194 212 230]\n",
      " [176 197 218 239 260]\n",
      " [194 218 242 266 290]\n",
      " [212 239 266 293 320]\n",
      " [230 260 290 320 350]]\n",
      "61950\n"
     ]
    }
   ],
   "source": [
    "import numpy as np\n",
    "a = np.array([[1,2,3,4,5],\n",
    "              [6,7,8,9,10],\n",
    "              [11,12,13,14,15]])\n",
    "aa = a.T @ a\n",
    "print(aa)\n",
    "\n",
    "b = np.array([1,2,3,4,5])\n",
    "\n",
    "c = b@aa@b\n",
    "\n",
    "print(c)"
   ]
  },
  {
   "cell_type": "code",
   "execution_count": 13,
   "metadata": {},
   "outputs": [
    {
     "name": "stdout",
     "output_type": "stream",
     "text": [
      "[ 0.5  0.5  0.5 -0.5 -0.5]\n",
      "[0.62245933 0.62245933 0.62245933 0.37754067 0.37754067]\n"
     ]
    }
   ],
   "source": [
    "import numpy as np\n",
    "D_pos = np.array([2,2,2,1,1])\n",
    "D_neg = np.array([1,1,1,2,2])\n",
    "\n",
    "D = np.maximum(D_pos,D_neg)\n",
    "d = np.minimum(D_pos,D_neg)\n",
    "temp = (d**2)/D\n",
    "\n",
    "idx1 = (D_pos > D_neg)\n",
    "idx2 = (D_pos < D_neg)\n",
    "\n",
    "\n",
    "f = np.zeros(5)\n",
    "f[idx1] = temp[idx1]\n",
    "f[idx2] = -temp[idx2]\n",
    "print(f)\n",
    "def sigmod(x):\n",
    "    return 1/(1+np.exp(-x))\n",
    "print(sigmod(f))"
   ]
  },
  {
   "cell_type": "code",
   "execution_count": 8,
   "metadata": {},
   "outputs": [
    {
     "name": "stdout",
     "output_type": "stream",
     "text": [
      "[2 2 2 2 2]\n"
     ]
    }
   ],
   "source": [
    "import numpy as np\n",
    "D_pos = np.array([2,2,2,1,1])\n",
    "D_neg = np.array([1,1,1,2,2])\n",
    "print(D_neg*D_pos)"
   ]
  },
  {
   "cell_type": "code",
   "execution_count": 5,
   "metadata": {},
   "outputs": [
    {
     "name": "stdout",
     "output_type": "stream",
     "text": [
      "(65,)\n"
     ]
    }
   ],
   "source": [
    "import numpy as np\n",
    "a = np.ones(129)\n",
    "# 生成65*129的矩阵\n",
    "b = np.ones((65,129))\n",
    "print((b@a).shape)"
   ]
  },
  {
   "cell_type": "markdown",
   "metadata": {},
   "source": [
    "好的，用户现在问的问题是，为什么当使用NumPy时，b@a可以运行而a@b会报错，尽管一维的numpy数组据说可以自适应形状。用户可能之前遇到了类似的矩阵乘法维度不匹配的问题，现在在理解NumPy的矩阵乘法规则时存在疑惑。\n",
    "\n",
    "首先，我需要回忆NumPy中的矩阵乘法规则，尤其是对于一维数组的处理。根据官方文档，@运算符在NumPy中执行的是矩阵乘法，对于一维数组，NumPy会将其视为行向量或列向量，但具体行为可能和用户的预期不同。\n",
    "\n",
    "用户提供的例子是：\n",
    "a = np.ones(129)  # 形状(129,)\n",
    "b = np.ones((65,129))  # 形状(65,129)\n",
    "\n",
    "当执行b@a时，得到的结果形状是(65,)，而a@b则会报错。用户可能认为一维数组可以自动转置以适应乘法，但实际情况并非如此。\n",
    "\n",
    "接下来，我需要详细分析这两个操作的不同之处。矩阵乘法对于二维数组来说是明确的，但当其中一个操作数是一维数组时，NumPy会如何处理？\n",
    "\n",
    "首先，b@a的情况：b的形状是(65,129)，a的形状是(129,)。根据NumPy的广播规则，在进行矩阵乘法时，一维数组会被视为列向量，但这里可能被当作行向量处理。实际上，当矩阵乘以一维数组时，NumPy会将一维数组当作一个行向量，结果会得到一个一维数组，形状为(65,)。这相当于将a作为列向量进行乘法，即b乘以a，结果是一个长度为65的数组。\n",
    "\n",
    "而a@b的情况：a的形状(129,)与b的形状(65,129)相乘。按照矩阵乘法规则，第一个数组的列数必须等于第二个数组的行数。但这里，a是(129,)，而b是(65,129)。如果尝试将a视为行向量（1,129），那么与b（65,129）相乘时，矩阵乘法的条件是第一个数组的列数等于第二个数组的行数，即129和65不匹配，因此会报错。\n",
    "\n",
    "这里的关键在于，当一维数组在左边时，它被视为行向量，而在右边时被视为列向量。但矩阵乘法需要满足维度匹配，所以在不同的位置会有不同的结果。\n",
    "\n",
    "用户可能误解了“自适应形状”的含义，以为NumPy会自动调整一维数组的方向来适应乘法，但实际上，NumPy的处理是有一定规则的。一维数组在矩阵乘法中的行为可能并不如用户预期的那样灵活，尤其是在涉及不同维度时。\n",
    "\n",
    "此外，用户可能的问题背景是之前在处理机器学习模型中的核矩阵乘法时遇到了维度不匹配的错误，现在在调试过程中遇到了类似的形状问题，因此想通过这个例子来理解背后的原因，以便更好地调整自己的代码。\n",
    "\n",
    "总结来说，用户需要理解在矩阵乘法中，一维数组的位置决定了其被视为行向量还是列向量，而这会影响乘法的合法性。例如，当一维数组在右侧时，它被视为列向量，可以与矩阵相乘，而在左侧时则被视为行向量，需要满足不同的维度条件。\n",
    "\n",
    "\n",
    "\n",
    "\n",
    "在NumPy中，矩阵乘法（`@`运算符）对一维数组的处理规则如下：\n",
    "\n",
    "### 1. **`b @ a` 的情况（允许）**\n",
    "• **`b` 的形状**：`(65, 129)`（二维数组，可视为 65 行 129 列的矩阵）。\n",
    "• **`a` 的形状**：`(129,)`（一维数组，NumPy 会将其隐式转换为 `(129, 1)` 的列向量）。\n",
    "• **运算规则**：矩阵乘法 `b @ a` 的实际操作是：  \n",
    "  将 `a` 视为列向量，相当于计算 `(65, 129) @ (129, 1)` → 结果为 `(65, 1)`，但 NumPy 会自动将结果压缩成一维数组 `(65,)`。\n",
    "\n",
    "### 2. **`a @ b` 的情况（报错）**\n",
    "• **`a` 的形状**：`(129,)`（一维数组，NumPy 会将其隐式转换为 `(1, 129)` 的行向量）。\n",
    "• **`b` 的形状**：`(65, 129)`（二维数组）。\n",
    "• **运算规则**：矩阵乘法 `a @ b` 的实际操作是：  \n",
    "  将 `a` 视为行向量，相当于计算 `(1, 129) @ (65, 129)` → **维度不匹配**（129 ≠ 65），因此报错。\n",
    "\n",
    "---\n",
    "\n",
    "### 总结规则\n",
    "| 操作         | 左侧数组形状 | 右侧数组形状 | 隐式转换后的形状 | 是否允许运算      |\n",
    "|--------------|--------------|--------------|------------------|------------------|\n",
    "| `b @ a`      | `(65, 129)`  | `(129,)`     | `(65,129) @ (129,1)` | ✅ 允许，结果为 `(65,)` |\n",
    "| `a @ b`      | `(129,)`     | `(65, 129)`  | `(1,129) @ (65,129)` | ❌ 报错（129 ≠ 65） |\n",
    "\n",
    "---\n",
    "\n",
    "### 解决方法\n",
    "如果想让 `a @ b` 合法，需显式调整维度：\n",
    "```python\n",
    "a = np.ones(129)\n",
    "b = np.ones((65, 129))\n",
    "\n",
    "# 将 a 显式转换为二维行向量 (1, 129)\n",
    "a_row = a.reshape(1, -1)  # 形状 (1, 129)\n",
    "result = a_row @ b.T      # 计算 (1,129) @ (129,65) → 结果形状 (1,65)\n",
    "```\n",
    "\n",
    "---\n",
    "\n",
    "### 附：一维数组的广播规则\n",
    "在 NumPy 中，一维数组的“自适应”行为遵循以下规则：\n",
    "• 在矩阵乘法中：\n",
    "  • **左侧的一维数组**被隐式视为 **行向量**（形状 `(1, n)`）。\n",
    "  • **右侧的一维数组**被隐式视为 **列向量**（形状 `(n, 1)`）。\n",
    "• 如果维度不匹配（例如 `(1,129) @ (65,129)`），直接报错，不会自动转置。\n",
    "\n",
    "建议在涉及多维运算时，始终显式使用二维数组（如 `reshape` 或 `np.newaxis`）以确保维度清晰可控。"
   ]
  },
  {
   "cell_type": "code",
   "execution_count": null,
   "metadata": {},
   "outputs": [],
   "source": []
  }
 ],
 "metadata": {
  "kernelspec": {
   "display_name": "tsvm",
   "language": "python",
   "name": "python3"
  },
  "language_info": {
   "codemirror_mode": {
    "name": "ipython",
    "version": 3
   },
   "file_extension": ".py",
   "mimetype": "text/x-python",
   "name": "python",
   "nbconvert_exporter": "python",
   "pygments_lexer": "ipython3",
   "version": "3.10.16"
  }
 },
 "nbformat": 4,
 "nbformat_minor": 2
}
