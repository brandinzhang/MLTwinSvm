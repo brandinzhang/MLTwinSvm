{
 "cells": [
  {
   "cell_type": "code",
   "execution_count": 3,
   "metadata": {},
   "outputs": [
    {
     "name": "stdout",
     "output_type": "stream",
     "text": [
      "(3, 1)\n",
      "(3, 1)\n",
      "(3, 1)\n"
     ]
    }
   ],
   "source": [
    "import numpy as np\n",
    "\n",
    "distance1 = np.array([[0.1], [0.2], [0.3]])\n",
    "distance2 = np.array([[0.4], [0.5], [0.6]])\n",
    "\n",
    "print(distance1.shape)\n",
    "print(distance2.shape)\n",
    "predictions = (distance1 < distance2).astype(int)\n",
    "print(predictions.shape)"
   ]
  },
  {
   "cell_type": "code",
   "execution_count": 10,
   "metadata": {},
   "outputs": [
    {
     "name": "stdout",
     "output_type": "stream",
     "text": [
      "[[3 4]]\n"
     ]
    }
   ],
   "source": [
    "import numpy as np\n",
    "\n",
    "# 假设 self.A 是一个 2x2 的数组\n",
    "A = np.array([[1, 2], [3, 4]])\n",
    "# 假设 self.beta 是一个长度为 2 的数组\n",
    "beta = np.array([[0.000], [0.002]])\n",
    "\n",
    "# 生成布尔数组\n",
    "mask = beta > 1e-5\n",
    "mask = mask.flatten()\n",
    "print(A[mask])\n"
   ]
  },
  {
   "cell_type": "code",
   "execution_count": 4,
   "metadata": {},
   "outputs": [
    {
     "name": "stdout",
     "output_type": "stream",
     "text": [
      "(3,)\n",
      "(3,)\n",
      "(3,)\n"
     ]
    }
   ],
   "source": [
    "import numpy as np\n",
    "\n",
    "distance1 = np.array([0.1, 0.2, 0.3])\n",
    "distance2 = np.array([0.4, 0.5, 0.6])\n",
    "\n",
    "print(distance1.shape)\n",
    "print(distance2.shape)\n",
    "predictions = (distance1 < distance2).astype(int)\n",
    "print(predictions.shape)"
   ]
  },
  {
   "cell_type": "code",
   "execution_count": 5,
   "metadata": {},
   "outputs": [
    {
     "name": "stdout",
     "output_type": "stream",
     "text": [
      "(3, 2)\n",
      "(2,)\n",
      "(3,)\n"
     ]
    }
   ],
   "source": [
    "A = np.array([[1, 2], [3, 4], [5, 6]])  # 3x2\n",
    "x = np.array([1,2]) # 3,\n",
    "print(A.shape)\n",
    "print(x.shape)\n",
    "print(np.dot(A, x).shape)"
   ]
  },
  {
   "cell_type": "code",
   "execution_count": 3,
   "metadata": {},
   "outputs": [
    {
     "name": "stdout",
     "output_type": "stream",
     "text": [
      "[[1 4]\n",
      " [2 5]\n",
      " [3 6]]\n"
     ]
    }
   ],
   "source": [
    "import numpy as np\n",
    "\n",
    "# 创建一个一维 numpy 数组\n",
    "arr1 = np.array([1, 2, 3])\n",
    "arr2 = np.array([4,5,6])\n",
    "# 创建一个空列表\n",
    "my_list = []\n",
    "\n",
    "# 将一维 numpy 数组追加到列表中\n",
    "my_list.append(arr1)\n",
    "my_list.append(arr2)\n",
    "\n",
    "print(np.array(my_list).T)"
   ]
  },
  {
   "cell_type": "code",
   "execution_count": null,
   "metadata": {},
   "outputs": [],
   "source": []
  },
  {
   "cell_type": "code",
   "execution_count": 6,
   "metadata": {},
   "outputs": [
    {
     "name": "stdout",
     "output_type": "stream",
     "text": [
      "(3, 2)\n",
      "(2, 1)\n",
      "(3, 1)\n"
     ]
    }
   ],
   "source": [
    "A = np.array([[1, 2], [3, 4], [5, 6]])  # 3x2\n",
    "x = np.array([\n",
    "    [1],\n",
    "    [2]\n",
    "]) # 3,\n",
    "print(A.shape)\n",
    "print(x.shape)\n",
    "print(np.dot(A, x).shape)"
   ]
  },
  {
   "cell_type": "code",
   "execution_count": null,
   "metadata": {},
   "outputs": [
    {
     "name": "stdout",
     "output_type": "stream",
     "text": [
      "[[1 2]\n",
      " [3 4]\n",
      " [5 6]\n",
      " [1 2]\n",
      " [3 4]\n",
      " [5 6]]\n"
     ]
    }
   ],
   "source": [
    "import numpy as np\n",
    "A = np.array([[1, 2], [3, 4], [5, 6]])  # 3x2\n",
    "B = np.array([[1, 2], [3, 4], [5, 6]])  # 3x2\n",
    "print(np.vstack((A, B)))"
   ]
  },
  {
   "cell_type": "code",
   "execution_count": 1,
   "metadata": {},
   "outputs": [
    {
     "name": "stdout",
     "output_type": "stream",
     "text": [
      "[[1 2]\n",
      " [3 4]\n",
      " [5 6]\n",
      " [1 2]\n",
      " [3 4]\n",
      " [5 6]]\n"
     ]
    }
   ],
   "source": [
    "import numpy as np\n",
    "A = np.array([[1, 2], [3, 4], [5, 6]])  # 3x2\n",
    "B = np.array([[1, 2], [3, 4], [5, 6]])  # 3x2\n",
    "print(np.vstack((A, B)))\n"
   ]
  },
  {
   "cell_type": "code",
   "execution_count": 2,
   "metadata": {},
   "outputs": [
    {
     "ename": "ValueError",
     "evalue": "all the input array dimensions except for the concatenation axis must match exactly, but along dimension 1, the array at index 0 has size 3 and the array at index 1 has size 2",
     "output_type": "error",
     "traceback": [
      "\u001b[0;31m---------------------------------------------------------------------------\u001b[0m",
      "\u001b[0;31mValueError\u001b[0m                                Traceback (most recent call last)",
      "Cell \u001b[0;32mIn[2], line 4\u001b[0m\n\u001b[1;32m      2\u001b[0m A \u001b[38;5;241m=\u001b[39m np\u001b[38;5;241m.\u001b[39marray([[\u001b[38;5;241m1\u001b[39m, \u001b[38;5;241m2\u001b[39m,\u001b[38;5;241m3\u001b[39m], [\u001b[38;5;241m3\u001b[39m, \u001b[38;5;241m4\u001b[39m,\u001b[38;5;241m5\u001b[39m] ])  \n\u001b[1;32m      3\u001b[0m B \u001b[38;5;241m=\u001b[39m np\u001b[38;5;241m.\u001b[39marray([[\u001b[38;5;241m1\u001b[39m,\u001b[38;5;241m2\u001b[39m],[\u001b[38;5;241m3\u001b[39m,\u001b[38;5;241m4\u001b[39m]])\n\u001b[0;32m----> 4\u001b[0m \u001b[38;5;28mprint\u001b[39m(\u001b[43mnp\u001b[49m\u001b[38;5;241;43m.\u001b[39;49m\u001b[43mvstack\u001b[49m\u001b[43m(\u001b[49m\u001b[43m(\u001b[49m\u001b[43mA\u001b[49m\u001b[43m,\u001b[49m\u001b[43m \u001b[49m\u001b[43mB\u001b[49m\u001b[43m)\u001b[49m\u001b[43m)\u001b[49m)\n",
      "File \u001b[0;32m/opt/anaconda3/envs/tsvm/lib/python3.10/site-packages/numpy/_core/shape_base.py:292\u001b[0m, in \u001b[0;36mvstack\u001b[0;34m(tup, dtype, casting)\u001b[0m\n\u001b[1;32m    290\u001b[0m \u001b[38;5;28;01mif\u001b[39;00m \u001b[38;5;129;01mnot\u001b[39;00m \u001b[38;5;28misinstance\u001b[39m(arrs, \u001b[38;5;28mtuple\u001b[39m):\n\u001b[1;32m    291\u001b[0m     arrs \u001b[38;5;241m=\u001b[39m (arrs,)\n\u001b[0;32m--> 292\u001b[0m \u001b[38;5;28;01mreturn\u001b[39;00m \u001b[43m_nx\u001b[49m\u001b[38;5;241;43m.\u001b[39;49m\u001b[43mconcatenate\u001b[49m\u001b[43m(\u001b[49m\u001b[43marrs\u001b[49m\u001b[43m,\u001b[49m\u001b[43m \u001b[49m\u001b[38;5;241;43m0\u001b[39;49m\u001b[43m,\u001b[49m\u001b[43m \u001b[49m\u001b[43mdtype\u001b[49m\u001b[38;5;241;43m=\u001b[39;49m\u001b[43mdtype\u001b[49m\u001b[43m,\u001b[49m\u001b[43m \u001b[49m\u001b[43mcasting\u001b[49m\u001b[38;5;241;43m=\u001b[39;49m\u001b[43mcasting\u001b[49m\u001b[43m)\u001b[49m\n",
      "\u001b[0;31mValueError\u001b[0m: all the input array dimensions except for the concatenation axis must match exactly, but along dimension 1, the array at index 0 has size 3 and the array at index 1 has size 2"
     ]
    }
   ],
   "source": [
    "import numpy as np\n",
    "A = np.array([[1, 2,3], [3, 4,5] ])  \n",
    "B = np.array([[1,2],[3,4]])\n",
    "print(np.vstack((A, B)))\n",
    "\n",
    "# 报错，说明符合机器学习的堆叠方式\n"
   ]
  },
  {
   "cell_type": "code",
   "execution_count": 1,
   "metadata": {},
   "outputs": [
    {
     "name": "stdout",
     "output_type": "stream",
     "text": [
      "qianzhonghao\n"
     ]
    }
   ],
   "source": [
    "a = 'zhong'\n",
    "b = 'qian'+a+'hao'\n",
    "print(b)"
   ]
  },
  {
   "cell_type": "code",
   "execution_count": 1,
   "metadata": {},
   "outputs": [
    {
     "name": "stdout",
     "output_type": "stream",
     "text": [
      "使用 np.linspace 生成的结果： [ 0.   2.5  5.   7.5 10. ]\n",
      "使用 np.arange 生成的结果： [0 2 4 6 8]\n"
     ]
    }
   ],
   "source": [
    "import numpy as np\n",
    "\n",
    "# 使用 np.linspace 在0到10之间生成5个等间隔的数字\n",
    "linspace_result = np.linspace(0, 10, num=5)\n",
    "print(\"使用 np.linspace 生成的结果：\", linspace_result)\n",
    "\n",
    "# 使用 np.arange 从0开始，以2为步长，生成小于10的数字\n",
    "arange_result = np.arange(0, 10, 2)\n",
    "print(\"使用 np.arange 生成的结果：\", arange_result)\n",
    "    "
   ]
  }
 ],
 "metadata": {
  "kernelspec": {
   "display_name": "tsvm",
   "language": "python",
   "name": "python3"
  },
  "language_info": {
   "codemirror_mode": {
    "name": "ipython",
    "version": 3
   },
   "file_extension": ".py",
   "mimetype": "text/x-python",
   "name": "python",
   "nbconvert_exporter": "python",
   "pygments_lexer": "ipython3",
   "version": "3.10.16"
  }
 },
 "nbformat": 4,
 "nbformat_minor": 2
}
