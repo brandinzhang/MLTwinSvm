{
 "cells": [
  {
   "cell_type": "code",
   "execution_count": 1,
   "metadata": {},
   "outputs": [
    {
     "name": "stdout",
     "output_type": "stream",
     "text": [
      "(3, 1)\n",
      "(3, 1)\n",
      "(3, 1)\n"
     ]
    }
   ],
   "source": [
    "import numpy as np\n",
    "\n",
    "distance1 = np.array([[0.1], [0.2], [0.3]])\n",
    "distance2 = np.array([[0.4], [0.5], [0.6]])\n",
    "\n",
    "print(distance1.shape)\n",
    "print(distance2.shape)\n",
    "predictions = (distance1 < distance2).astype(int)\n",
    "print(predictions.shape)"
   ]
  },
  {
   "cell_type": "code",
   "execution_count": 2,
   "metadata": {},
   "outputs": [
    {
     "name": "stdout",
     "output_type": "stream",
     "text": [
      "(3,)\n",
      "(3,)\n",
      "(3,)\n"
     ]
    }
   ],
   "source": [
    "import numpy as np\n",
    "\n",
    "distance1 = np.array([0.1, 0.2, 0.3])\n",
    "distance2 = np.array([0.4, 0.5, 0.6])\n",
    "\n",
    "print(distance1.shape)\n",
    "print(distance2.shape)\n",
    "predictions = (distance1 < distance2).astype(int)\n",
    "print(predictions.shape)"
   ]
  },
  {
   "cell_type": "code",
   "execution_count": 3,
   "metadata": {},
   "outputs": [
    {
     "name": "stdout",
     "output_type": "stream",
     "text": [
      "(3, 2)\n",
      "(2,)\n",
      "(3,)\n"
     ]
    }
   ],
   "source": [
    "A = np.array([[1, 2], [3, 4], [5, 6]])  # 3x2\n",
    "x = np.array([1,2]) # 3,\n",
    "print(A.shape)\n",
    "print(x.shape)\n",
    "print(np.dot(A, x).shape)"
   ]
  },
  {
   "cell_type": "code",
   "execution_count": 5,
   "metadata": {},
   "outputs": [
    {
     "name": "stdout",
     "output_type": "stream",
     "text": [
      "(3, 2)\n",
      "(2, 1)\n",
      "(3, 1)\n"
     ]
    }
   ],
   "source": [
    "A = np.array([[1, 2], [3, 4], [5, 6]])  # 3x2\n",
    "x = np.array([\n",
    "    [1],\n",
    "    [2]\n",
    "]) # 3,\n",
    "print(A.shape)\n",
    "print(x.shape)\n",
    "print(np.dot(A, x).shape)"
   ]
  },
  {
   "cell_type": "code",
   "execution_count": null,
   "metadata": {},
   "outputs": [],
   "source": []
  }
 ],
 "metadata": {
  "kernelspec": {
   "display_name": "tsvm",
   "language": "python",
   "name": "python3"
  },
  "language_info": {
   "codemirror_mode": {
    "name": "ipython",
    "version": 3
   },
   "file_extension": ".py",
   "mimetype": "text/x-python",
   "name": "python",
   "nbconvert_exporter": "python",
   "pygments_lexer": "ipython3",
   "version": "3.10.16"
  }
 },
 "nbformat": 4,
 "nbformat_minor": 2
}
