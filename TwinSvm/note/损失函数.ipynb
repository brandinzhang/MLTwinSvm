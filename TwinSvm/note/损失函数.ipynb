{
 "cells": [
  {
   "cell_type": "markdown",
   "metadata": {},
   "source": [
    "### 1 Hamming Loss\n",
    "Hamming Loss（衡量的是错分的标签比例，正确标签没有被预测以及错误标签被预测的标签占比）\n",
    "$$\\frac{1}{p}\\sum_{i=1}^p\\frac{1}{q}|h(x^i)\\Delta y^i|$$"
   ]
  },
  {
   "cell_type": "code",
   "execution_count": 3,
   "metadata": {},
   "outputs": [
    {
     "name": "stdout",
     "output_type": "stream",
     "text": [
      "汉明损失: 0.2222222222222222\n"
     ]
    }
   ],
   "source": [
    "from sklearn.metrics import hamming_loss\n",
    "import numpy as np\n",
    "# 示例数据\n",
    "# 假设我们有 3 个样本，每个样本有 6 个可能的标签\n",
    "y_true = np.array([\n",
    "    [1, 0, 1, 1, 0, 0],\n",
    "    [0, 1, 0, 0, 1, 1],\n",
    "    [1, 1, 0, 1, 0, 0]\n",
    "])\n",
    "\n",
    "y_pred = np.array([\n",
    "    [1, 1, 1, 1, 0, 0],\n",
    "    [0, 1, 1, 0, 1, 1],\n",
    "    [1, 1, 0, 0, 0, 1]\n",
    "])\n",
    "\n",
    "# 计算汉明损失\n",
    "loss = hamming_loss(y_true, y_pred)\n",
    "print(f\"汉明损失: {loss}\")\n",
    "    "
   ]
  },
  {
   "cell_type": "markdown",
   "metadata": {},
   "source": [
    "### 2平均精度（Average Precision）详细解释\n",
    "\n",
    "平均精度（Average Precision，AP）是一种用于评估信息检索系统或多标签分类模型性能的指标，尤其适用于需要对预测结果进行排序的场景。在多标签学习中，它衡量的是模型在预测相关标签时的排序质量，即模型将相关标签排在前面的能力。对于一个样本 $x_i$，设其真实标签集合为 $y_i$，模型对每个标签的预测得分向量为 $f(x_i)$。标签 $y$ 在预测得分向量中的排名记为 $\\text{rank}_f(x_i, y)$，排名越小表示该标签的预测得分越高。\n",
    "\n",
    "\n",
    "平均精度的计算公式为：\n",
    "$$\n",
    "\\text{AvePre} = \\frac{1}{p} \\sum_{i = 1}^{p} \\left(\\frac{1}{\\vert y_i \\vert} \\sum_{y \\in y_i} \\frac{\\vert \\{ y' \\in y_i \\mid \\text{rank}_f(x_i, y') \\leq \\text{rank}_f(x_i, y) \\} \\vert}{\\text{rank}_f(x_i, y)} \\right)\n",
    "$$\n",
    "其中：\n",
    "- $p$ 是样本的总数。\n",
    "- $\\vert y_i \\vert$ 是样本 $x_i$ 的真实标签数量。\n",
    "- 对于每个真实标签 $y$，分子 $\\vert \\{ y' \\in y_i \\mid \\text{rank}_f(x_i, y') \\leq \\text{rank}_f(x_i, y) \\} \\vert$ 表示在排名不超过 $y$ 的标签中，属于真实标签的数量；分母 $\\text{rank}_f(x_i, y)$ 是标签 $y$ 的排名。\n",
    "\n",
    "#### 计算步骤\n",
    "1. 对于每个样本 $x_i$，根据模型的预测得分对所有标签进行排序。\n",
    "2. 对于该样本的每个真实标签 $y$，计算在排名不超过 $y$ 的标签中，真实标签的比例。\n",
    "3. 对该样本的所有真实标签的上述比例求平均值，得到该样本的平均精度。\n",
    "4. 对所有样本的平均精度求平均值，得到整个数据集的平均精度。\n",
    "\n"
   ]
  },
  {
   "cell_type": "code",
   "execution_count": 5,
   "metadata": {},
   "outputs": [
    {
     "name": "stdout",
     "output_type": "stream",
     "text": [
      "平均精度 (macro): 1.0\n"
     ]
    }
   ],
   "source": [
    "from sklearn.metrics import average_precision_score\n",
    "import numpy as np\n",
    "\n",
    "# 示例数据，假设有 3 个样本，每个样本有 4 个可能的标签\n",
    "y_true = np.array([\n",
    "    [1, 0, 1, 0],\n",
    "    [0, 1, 0, 1],\n",
    "    [1, 1, 0, 0]\n",
    "])\n",
    "\n",
    "# 假设这是模型预测的得分\n",
    "y_score = np.array([\n",
    "    [0.8, 0.2, 0.7, 0.1],\n",
    "    [0.1, 0.8, 0.2, 0.9],\n",
    "    [0.9, 0.8, 0.1, 0.2]\n",
    "])\n",
    "\n",
    "# 计算平均精度\n",
    "average_precision = average_precision_score(y_true, y_score, average='macro')\n",
    "print(f\"平均精度 (macro): {average_precision}\")\n",
    "    "
   ]
  },
  {
   "cell_type": "markdown",
   "metadata": {},
   "source": [
    "### 3覆盖度（Coverage）的定义与计算\n",
    "\n",
    "\n",
    "覆盖度（Coverage）用于衡量模型需要遍历多少个预测标签(在预测出的标签排序集中)，才能覆盖样本的所有真实标签。它体现了模型对真实标签的覆盖能力，是一个评估模型性能的重要指标。覆盖度的值越小，说明模型能更快地覆盖所有真实标签，性能也就越好。覆盖度（Coverage）的取值范围是 [0, K-1]\n",
    "\n",
    "\n",
    "假设存在一个包含 $p$ 个样本的数据集，对于样本 $x_i$，其真实标签集合为 $y_i$，模型对该样本的所有标签预测得分排序后，标签 $y$ 的排名记为 $\\text{rank}_f(x_i, y)$。覆盖度的计算公式如下：\n",
    "$$\n",
    "\\text{Cov} = \\frac{1}{p} \\sum_{i = 1}^{p} \\left( \\max_{y \\in y_i} \\text{rank}_f(x_i, y) - 1 \\right)\n",
    "$$\n",
    "\n",
    "#### 计算步骤\n",
    "1. 针对每个样本 $x_i$，依据模型的预测得分对所有标签进行排序。\n",
    "2. 找出该样本真实标签集合 $y_i$ 中排名最大的标签，记录其排名 $\\max_{y \\in y_i} \\text{rank}_f(x_i, y)$。\n",
    "3. 把该排名减 1，得到该样本的覆盖值。\n",
    "4. 对所有样本的覆盖值求平均值，得到整个数据集的覆盖度。\n",
    "\n",
    "\n",
    "\n",
    "\n",
    "    \n",
    "\n"
   ]
  },
  {
   "cell_type": "code",
   "execution_count": 6,
   "metadata": {},
   "outputs": [
    {
     "name": "stdout",
     "output_type": "stream",
     "text": [
      "覆盖度: 2.0\n"
     ]
    }
   ],
   "source": [
    "from sklearn.metrics import coverage_error\n",
    "import numpy as np\n",
    "\n",
    "# 示例数据\n",
    "# 假设存在 3 个样本，每个样本有 4 个可能的标签\n",
    "y_true = np.array([\n",
    "    [1, 0, 1, 0],\n",
    "    [0, 1, 0, 1],\n",
    "    [1, 1, 0, 0]\n",
    "])\n",
    "\n",
    "# 假设这是模型预测的得分\n",
    "y_score = np.array([\n",
    "    [0.8, 0.2, 0.7, 0.1],\n",
    "    [0.1, 0.9, 0.2, 0.8],\n",
    "    [0.9, 0.8, 0.1, 0.2]\n",
    "])\n",
    "\n",
    "# 计算覆盖度\n",
    "cov = coverage_error(y_true, y_score)\n",
    "print(f\"覆盖度: {cov}\")\n",
    "    "
   ]
  },
  {
   "cell_type": "markdown",
   "metadata": {},
   "source": [
    "###  4排序损失（Ranking Loss，Rloss）\n",
    "\n",
    "\n",
    "排序损失（Ranking Loss）用于衡量在多标签学习中，模型对标签排序的准确性。它关注的是真实标签和非真实标签之间的排序关系。具体来说，它计算的是所有样本中，真实标签得分低于非真实标签得分的标签对的比例。\n",
    "\n",
    "\n",
    "假设存在 $p$ 个样本，对于样本 $x_i$，其真实标签集合为 $y_i$，非真实标签集合为 $\\overline{y_i}$。排序损失的计算公式为：\n",
    "$$\n",
    "Rloss = \\frac{1}{p} \\sum_{i = 1}^{p} \\left( \\frac{1}{\\vert y_i \\vert \\vert \\overline{y_i} \\vert} \\left| \\{ (y', y'') \\mid f_{y'}(x_i) \\leq f_{y''}(x_i), y' \\in y_i, y'' \\in \\overline{y_i} \\} \\right| \\right)\n",
    "$$\n",
    "其中，$f_{y'}(x_i)$ 和 $f_{y''}(x_i)$ 分别是样本 $x_i$ 中标签 $y'$ 和 $y''$ 的预测得分。\n",
    "\n",
    "\n",
    "排序损失的取值范围是 $[0, 1]$。值越接近 0，表示模型对标签的排序越好，即真实标签的得分普遍高于非真实标签的得分；值越接近 1，表示模型的排序效果越差。\n",
    "\n",
    "\n",
    "\n",
    "\n"
   ]
  },
  {
   "cell_type": "code",
   "execution_count": 7,
   "metadata": {},
   "outputs": [
    {
     "name": "stdout",
     "output_type": "stream",
     "text": [
      "排序损失 (Rloss): 0.0\n"
     ]
    }
   ],
   "source": [
    "from sklearn.metrics import label_ranking_loss\n",
    "import numpy as np\n",
    "\n",
    "# 示例数据\n",
    "y_true = np.array([[1, 0, 1], [0, 1, 1]])  # 真实标签\n",
    "y_score = np.array([[0.8, 0.3, 0.6], [0.2, 0.7, 0.9]])  # 预测得分\n",
    "\n",
    "# 计算排序损失\n",
    "r_loss = label_ranking_loss(y_true, y_score)\n",
    "print(f\"排序损失 (Rloss): {r_loss}\")"
   ]
  },
  {
   "cell_type": "markdown",
   "metadata": {},
   "source": [
    "### 5 单错误率（One - Error）\n",
    "\n",
    "\n",
    "单错误率（One - Error）衡量的是在多标签学习中，模型预测的得分最高的标签不是真实标签的样本比例。也就是说，它关注的是模型在每个样本上预测的最可能的标签是否正确。\n",
    "\n",
    "\n",
    "对于样本 $x_i$，设 $\\text{argmax}_y f_y(x_i)$ 是模型预测得分最高的标签。单错误率的计算公式为：\n",
    "$$\n",
    "Oerr = \\frac{1}{p} \\sum_{i = 1}^{p} H(x_i)\n",
    "$$\n",
    "其中，\n",
    "$$\n",
    "H(x_i) = \n",
    "\\begin{cases}\n",
    "0, & \\text{argmax}_y f_y(x_i) \\in y_i \\\\\n",
    "1, & \\text{otherwise}\n",
    "\\end{cases}\n",
    "$$\n",
    "\n",
    "\n",
    "单错误率的取值范围也是 $[0, 1]$。值越接近 0，表示模型预测的得分最高的标签是真实标签的样本比例越高，模型性能越好；值越接近 1，表示模型在这方面的表现越差。\n",
    "\n",
    "\n",
    "\n",
    "\n",
    "\n",
    "\n"
   ]
  },
  {
   "cell_type": "code",
   "execution_count": 8,
   "metadata": {},
   "outputs": [
    {
     "name": "stdout",
     "output_type": "stream",
     "text": [
      "单错误率 (One - Error): 0.0\n"
     ]
    }
   ],
   "source": [
    "import numpy as np\n",
    "\n",
    "def one_error(y_true, y_score):\n",
    "    num_samples = y_true.shape[0]\n",
    "    error_count = 0\n",
    "    for i in range(num_samples):\n",
    "        # 找到预测得分最高的标签的索引\n",
    "        top_label_index = np.argmax(y_score[i])\n",
    "        # 检查该标签是否在真实标签集合中\n",
    "        if y_true[i][top_label_index] != 1:\n",
    "            error_count += 1\n",
    "    return error_count / num_samples\n",
    "\n",
    "# 示例数据\n",
    "y_true = np.array([[1, 0, 1], [0, 1, 1]])  # 真实标签\n",
    "y_score = np.array([[0.8, 0.3, 0.6], [0.2, 0.7, 0.9]])  # 预测得分\n",
    "\n",
    "# 计算单错误率\n",
    "o_err = one_error(y_true, y_score)\n",
    "print(f\"单错误率 (One - Error): {o_err}\")"
   ]
  }
 ],
 "metadata": {
  "kernelspec": {
   "display_name": "tsvm",
   "language": "python",
   "name": "python3"
  },
  "language_info": {
   "codemirror_mode": {
    "name": "ipython",
    "version": 3
   },
   "file_extension": ".py",
   "mimetype": "text/x-python",
   "name": "python",
   "nbconvert_exporter": "python",
   "pygments_lexer": "ipython3",
   "version": "3.10.16"
  }
 },
 "nbformat": 4,
 "nbformat_minor": 2
}
